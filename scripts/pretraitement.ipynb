{
 "cells": [
  {
   "cell_type": "markdown",
   "metadata": {},
   "source": [
    "Pour uniformiser les difficultés"
   ]
  },
  {
   "cell_type": "code",
   "execution_count": null,
   "metadata": {},
   "outputs": [],
   "source": [
    "import json\n",
    "\n",
    "\n",
    "file_path = 'quests.json'\n",
    "\n",
    "with open(file_path, 'r') as file:\n",
    "    data = json.load(file)\n",
    "\n",
    "# Définir les règles de classification de la difficulté\n",
    "easy_values = {'MR1', 'MR2', 'MR3', '1', '2', '3'}\n",
    "medium_values = {'MR4', 'MR5', '4', '5'}\n",
    "\n",
    "# Modifier les valeurs de difficulté selon les règles\n",
    "for quest in data['quests']:\n",
    "    if quest['difficulty'] in easy_values:\n",
    "        quest['difficulty'] = \"easy\"\n",
    "    elif quest['difficulty'] in medium_values:\n",
    "        quest['difficulty'] = \"medium\"\n",
    "    else:\n",
    "        quest['difficulty'] = \"hard\"\n",
    "\n",
    "# Réécrire le fichier JSON avec les difficultés mises à jour\n",
    "with open(file_path, 'w') as file:\n",
    "    json.dump(data, file, indent=4)\n",
    "\n",
    "print(\"Les difficultés ont été mises à jour dans le fichier JSON.\")\n"
   ]
  },
  {
   "cell_type": "code",
   "execution_count": null,
   "metadata": {},
   "outputs": [],
   "source": [
    "file_path = 'quests.json'\n",
    "output_file_path = 'quests_output.txt'\n",
    "\n",
    "with open(file_path, 'r') as file:\n",
    "    data = json.load(file)\n",
    "with open(output_file_path, 'w') as output_file:\n",
    "    # Parcourir chaque quête dans les données JSON\n",
    "    for quest in data['quests']:\n",
    "        # Extraire les informations nécessaires\n",
    "        objective = quest.get('objective', 'N/A')\n",
    "        difficulty = quest.get('difficulty', 'N/A')\n",
    "        map_location = quest.get('map', 'N/A')\n",
    "        target = quest.get('target', 'N/A')\n",
    "        description = quest.get('description', 'N/A')\n",
    "\n",
    "        # Écrire les informations formatées dans le fichier de sortie\n",
    "        output_file.write(f\"Map: {map_location} | Difficulty: {difficulty} | Target: {target} | Objective: {objective} | Description: {description}\\n\")\n",
    "\n",
    "print(\"Les données ont été écrites dans le fichier texte avec succès.\")\n"
   ]
  }
 ],
 "metadata": {
  "kernelspec": {
   "display_name": "Python 3",
   "language": "python",
   "name": "python3"
  },
  "language_info": {
   "name": "python",
   "version": "3.10.11"
  }
 },
 "nbformat": 4,
 "nbformat_minor": 2
}
